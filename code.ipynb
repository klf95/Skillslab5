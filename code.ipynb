{
 "cells": [
  {
   "cell_type": "code",
   "execution_count": 3,
   "id": "respected-tackle",
   "metadata": {},
   "outputs": [
    {
     "name": "stdin",
     "output_type": "stream",
     "text": [
      "what is your name:  kevin\n",
      "give us a percent:  20\n"
     ]
    },
    {
     "name": "stdout",
     "output_type": "stream",
     "text": [
      "your percent is 0.2\n"
     ]
    }
   ],
   "source": [
    "name = input(\"what is your name: \")\n",
    "percent = input(\"give us a percent: \") \n",
    "percent_in_decimal = float(percent) * .01\n",
    "print(\"your percent is \" + str(percent_in_decimal))\n"
   ]
  },
  {
   "cell_type": "code",
   "execution_count": null,
   "id": "bored-soldier",
   "metadata": {},
   "outputs": [],
   "source": []
  }
 ],
 "metadata": {
  "kernelspec": {
   "display_name": "Python 3",
   "language": "python",
   "name": "python3"
  },
  "language_info": {
   "codemirror_mode": {
    "name": "ipython",
    "version": 3
   },
   "file_extension": ".py",
   "mimetype": "text/x-python",
   "name": "python",
   "nbconvert_exporter": "python",
   "pygments_lexer": "ipython3",
   "version": "3.7.9"
  }
 },
 "nbformat": 4,
 "nbformat_minor": 5
}
